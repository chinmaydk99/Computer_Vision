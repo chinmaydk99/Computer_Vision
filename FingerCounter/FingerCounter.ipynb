{
 "cells": [
  {
   "cell_type": "code",
   "execution_count": 1,
   "metadata": {},
   "outputs": [],
   "source": [
    "import cv2\n",
    "import mediapipe as mp\n",
    "import numpy as np\n",
    "import time"
   ]
  },
  {
   "cell_type": "code",
   "execution_count": 6,
   "metadata": {},
   "outputs": [],
   "source": [
    "import HandTrackingModule as htm\n",
    "import os"
   ]
  },
  {
   "cell_type": "code",
   "execution_count": 3,
   "metadata": {},
   "outputs": [],
   "source": [
    "pTime = 0\n",
    "cTime = 0"
   ]
  },
  {
   "attachments": {},
   "cell_type": "markdown",
   "metadata": {},
   "source": [
    "### Storing the images"
   ]
  },
  {
   "cell_type": "code",
   "execution_count": 47,
   "metadata": {},
   "outputs": [
    {
     "name": "stdout",
     "output_type": "stream",
     "text": [
      "['0.jpg', '1.jpg', '2.jpg', '3.jpg', '4.jpg', '5.jpg']\n"
     ]
    }
   ],
   "source": [
    "folderPath = 'Images'\n",
    "myList = os.listdir(folderPath)\n",
    "print(myList)"
   ]
  },
  {
   "attachments": {},
   "cell_type": "markdown",
   "metadata": {},
   "source": [
    "### Creating a list of images"
   ]
  },
  {
   "cell_type": "code",
   "execution_count": 48,
   "metadata": {},
   "outputs": [],
   "source": [
    "overlayList = []\n",
    "\n",
    "for imgPath in myList:\n",
    "    image  = cv2.imread(f'{folderPath}/{imgPath}')\n",
    "    overlayList.append(cv2.resize(image,(150,150)))"
   ]
  },
  {
   "cell_type": "code",
   "execution_count": 49,
   "metadata": {},
   "outputs": [
    {
     "data": {
      "text/plain": [
       "(150, 150, 3)"
      ]
     },
     "execution_count": 49,
     "metadata": {},
     "output_type": "execute_result"
    }
   ],
   "source": [
    "overlayList[0].shape"
   ]
  },
  {
   "attachments": {},
   "cell_type": "markdown",
   "metadata": {},
   "source": [
    "### List of Indices of finger tips and references \n",
    "\n",
    "Since we have defined the fixed set of gestures , we will define the list of mediapipe hand detection indices pertaining to the tip of each finger"
   ]
  },
  {
   "cell_type": "code",
   "execution_count": 40,
   "metadata": {},
   "outputs": [],
   "source": [
    "tip_ids = [4,8,12,16,20]\n",
    "reference_ids = [3,7,11,15,19]"
   ]
  },
  {
   "cell_type": "code",
   "execution_count": 51,
   "metadata": {},
   "outputs": [],
   "source": [
    "pTime = 0\n",
    "cTime = 0\n",
    "cap = cv2.VideoCapture(0)\n",
    "detector = htm.HandDetector()\n",
    "while True:\n",
    "    success, img = cap.read() \n",
    "    img = detector.findHands(img)\n",
    "    landmark_list = detector.findPosition(img)\n",
    "    \n",
    "    # For counting, we are interested in the tip of fingers and a reference\n",
    "    # Reference can be any point on that finger below the tip\n",
    "    if landmark_list:\n",
    "        fingers = []\n",
    "\n",
    "        # We are checking y coordinates of tip and reference but for thumb this may not be enough\n",
    "        # For thumb we can either change the reference or check x coordinate of x and reference\n",
    "        \n",
    "        # Approach 1\n",
    "        # for tip_id,reference_id in zip(tip_ids,reference_ids):\n",
    "        #     if landmark_list[tip_id][2] > landmark_list[reference_id][2]:\n",
    "        #         fingers.append(0)\n",
    "        #     else:\n",
    "        #         fingers.append(1)\n",
    "\n",
    "        # Approach 2\n",
    "\n",
    "        #Thumb finger\n",
    "        if landmark_list[tip_ids[0]][1] < landmark_list[tip_ids[0]-1][1]:\n",
    "            fingers.append(0)\n",
    "        else:\n",
    "            fingers.append(1)\n",
    "\n",
    "        for i in range(1,len(tip_ids)):\n",
    "            if landmark_list[tip_ids[i]][2] > landmark_list[tip_ids[i] - 2][2]:\n",
    "                fingers.append(0)\n",
    "            else:\n",
    "                fingers.append(1)\n",
    "\n",
    "        #print(fingers)\n",
    "        #print(sum(fingers))\n",
    "\n",
    "        # Overlaying the loaded images on the input\n",
    "        h, w, c = overlayList[0].shape\n",
    "        img[0:w,0:h] = overlayList[sum(fingers)]\n",
    "\n",
    "        # Adding a visual aid to depict the number detected\n",
    "        cv2.rectangle(img, (20, 225), (170, 425), (0, 255, 0), cv2.FILLED)\n",
    "        cv2.putText(img, str(sum(fingers)), (45, 375), cv2.FONT_HERSHEY_PLAIN,\n",
    "                    10, (255, 0, 0), 25)\n",
    "        \n",
    "\n",
    "    cTime = time.time()\n",
    "    fps = 1/(cTime-pTime)\n",
    "    pTime =cTime\n",
    "    cv2.putText(img,str(int(fps)),(518,78),cv2.FONT_HERSHEY_COMPLEX,3,(255,255,255),4)\n",
    "\n",
    "    cv2.imshow('Video',img)\n",
    "    #cv2.waitKey(1)\n",
    "    if cv2.waitKey(1) & 0xFF == ord('q'):\n",
    "        break\n",
    "\n",
    "cap.release()\n",
    "cv2.destroyAllWindows()"
   ]
  },
  {
   "cell_type": "code",
   "execution_count": 32,
   "metadata": {},
   "outputs": [],
   "source": [
    "cv2.destroyAllWindows()"
   ]
  }
 ],
 "metadata": {
  "kernelspec": {
   "display_name": "Python 3",
   "language": "python",
   "name": "python3"
  },
  "language_info": {
   "codemirror_mode": {
    "name": "ipython",
    "version": 3
   },
   "file_extension": ".py",
   "mimetype": "text/x-python",
   "name": "python",
   "nbconvert_exporter": "python",
   "pygments_lexer": "ipython3",
   "version": "3.10.10"
  },
  "orig_nbformat": 4
 },
 "nbformat": 4,
 "nbformat_minor": 2
}
