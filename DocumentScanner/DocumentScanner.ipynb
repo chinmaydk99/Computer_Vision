{
 "cells": [
  {
   "attachments": {},
   "cell_type": "markdown",
   "metadata": {},
   "source": [
    "Steps \n",
    "- "
   ]
  },
  {
   "cell_type": "code",
   "execution_count": 25,
   "metadata": {},
   "outputs": [],
   "source": [
    "import cv2\n",
    "import numpy as np"
   ]
  },
  {
   "cell_type": "code",
   "execution_count": 114,
   "metadata": {},
   "outputs": [],
   "source": [
    "widthImage = 480\n",
    "heightImage = 640"
   ]
  },
  {
   "cell_type": "code",
   "execution_count": 134,
   "metadata": {},
   "outputs": [],
   "source": [
    "\n",
    "def stackImages(scale,imgArray):\n",
    "    rows = len(imgArray)\n",
    "    cols = len(imgArray[0])\n",
    "    rowsAvailable = isinstance(imgArray[0], list)\n",
    "    width = imgArray[0][0].shape[1]\n",
    "    height = imgArray[0][0].shape[0]\n",
    "    if rowsAvailable:\n",
    "        for x in range ( 0, rows):\n",
    "            for y in range(0, cols):\n",
    "                if imgArray[x][y].shape[:2] == imgArray[0][0].shape [:2]:\n",
    "                    imgArray[x][y] = cv2.resize(imgArray[x][y], (0, 0), None, scale, scale)\n",
    "                else:\n",
    "                    imgArray[x][y] = cv2.resize(imgArray[x][y], (imgArray[0][0].shape[1], imgArray[0][0].shape[0]), None, scale, scale)\n",
    "                if len(imgArray[x][y].shape) == 2: imgArray[x][y]= cv2.cvtColor( imgArray[x][y], cv2.COLOR_GRAY2BGR)\n",
    "        imageBlank = np.zeros((height, width, 3), np.uint8)\n",
    "        hor = [imageBlank]*rows\n",
    "        hor_con = [imageBlank]*rows\n",
    "        for x in range(0, rows):\n",
    "            hor[x] = np.hstack(imgArray[x])\n",
    "        ver = np.vstack(hor)\n",
    "    else:\n",
    "        for x in range(0, rows):\n",
    "            if imgArray[x].shape[:2] == imgArray[0].shape[:2]:\n",
    "                imgArray[x] = cv2.resize(imgArray[x], (0, 0), None, scale, scale)\n",
    "            else:\n",
    "                imgArray[x] = cv2.resize(imgArray[x], (imgArray[0].shape[1], imgArray[0].shape[0]), None,scale, scale)\n",
    "            if len(imgArray[x].shape) == 2: imgArray[x] = cv2.cvtColor(imgArray[x], cv2.COLOR_GRAY2BGR)\n",
    "        hor= np.hstack(imgArray)\n",
    "        ver = hor\n",
    "    return ver"
   ]
  },
  {
   "attachments": {},
   "cell_type": "markdown",
   "metadata": {},
   "source": [
    "### Preprocessing function"
   ]
  },
  {
   "cell_type": "code",
   "execution_count": 115,
   "metadata": {},
   "outputs": [],
   "source": [
    "kernel = np.ones((5,5))\n",
    "\n",
    "def preProcessing(img):\n",
    "    imgGray = cv2.cvtColor(img,cv2.COLOR_BGR2GRAY)\n",
    "    imgBlur = cv2.GaussianBlur(imgGray,(5,5),sigmaX=1)\n",
    "    imgCanny = cv2.Canny(imgBlur,200,200)\n",
    "    imgDial = cv2.dilate(imgCanny,kernel,iterations=2)\n",
    "    imgErode = cv2.erode(imgDial,kernel,iterations=1)\n",
    "\n",
    "    return imgErode\n"
   ]
  },
  {
   "attachments": {},
   "cell_type": "markdown",
   "metadata": {},
   "source": [
    "### Contour function\n",
    "\n",
    "- We aim to retrieve the biggest contour in our image"
   ]
  },
  {
   "cell_type": "code",
   "execution_count": 155,
   "metadata": {},
   "outputs": [],
   "source": [
    "def getContours(img):\n",
    "    maxArea = 0\n",
    "    biggest = np.array([])\n",
    "    contours, hierarchy = cv2.findContours(img,cv2.RETR_EXTERNAL,cv2.CHAIN_APPROX_NONE)\n",
    "    \n",
    "    for cnt in contours:\n",
    "        area = cv2.contourArea(cnt)\n",
    "        if area > 1000:\n",
    "            #cv2.drawContours(imgContour,cnt,-1,(255,0,0),20)\n",
    "            peri = cv2.arcLength(cnt,closed=True)\n",
    "            approx = cv2.approxPolyDP(cnt,0.02*peri,closed=True)\n",
    "            if area > maxArea and len(approx) == 4:\n",
    "                biggest = approx\n",
    "                maxArea = area\n",
    "    cv2.drawContours(imgContour,biggest,-1,(255,0,0),20)\n",
    "    return biggest"
   ]
  },
  {
   "attachments": {},
   "cell_type": "markdown",
   "metadata": {},
   "source": [
    "### Warping the biggest contour \n",
    "\n",
    "- Now that we have our biggest contour , we need to warp it and get its' birds eye view\n",
    "- The main thing we need to contend with is the order in which the getPerspectieTransform() expects the points. If the points obtained via biggest don't follow the format , it might lead to unexpected / unwanted results\n",
    "- We reorder the given coordinates and then use it to in getPerspectiveTransform() and warpPerspective()"
   ]
  },
  {
   "cell_type": "code",
   "execution_count": 178,
   "metadata": {},
   "outputs": [],
   "source": [
    "def getWarp(img,biggest):\n",
    "    biggest = reorder(biggest)\n",
    "    pts1 =  np.float32(biggest)\n",
    "    pts2 = np.float32([[0,0],[widthImage,0], [0,heightImage],[widthImage,heightImage]])\n",
    "    matrix = cv2.getPerspectiveTransform(pts1,pts2)\n",
    "    imgOutput = cv2.warpPerspective(img,matrix,(widthImage,heightImage))\n",
    "    \n",
    "    imgCropped  = imgOutput[20:imgOutput.shape[0]-20,20:imgOutput.shape[1]-20]\n",
    "    imgCropped = cv2.resize(imgCropped,(widthImage,heightImage))\n",
    "\n",
    "    return imgCropped"
   ]
  },
  {
   "attachments": {},
   "cell_type": "markdown",
   "metadata": {},
   "source": [
    "### Reorder function\n",
    "\n",
    "- The following function will take the coordinates of the biggest contour and rearrange them in the expected order\n",
    "- The way we do this is by adding the coordinates of the corners.(rowwise addition)\n",
    "- The one with the least sum would be the origin while the one with the highest would be the extreme corner(diagonal opposite of origin)\n",
    "- Take rowwise difference .Least difference second point, max difference, third point"
   ]
  },
  {
   "cell_type": "code",
   "execution_count": 179,
   "metadata": {},
   "outputs": [],
   "source": [
    "def reorder(myPoints):\n",
    "    myPoints = myPoints.reshape((4,2))\n",
    "    myPointsNew = np.zeros((4,1,2),np.int32)\n",
    "    add = myPoints.sum(1)\n",
    "    #print('add',add)\n",
    "\n",
    "    myPointsNew[0] = myPoints[np.argmin(add)]\n",
    "    myPointsNew[3] = myPoints[np.argmax(add)]\n",
    "\n",
    "\n",
    "    diff = np.diff(myPoints,axis=1)\n",
    "    myPointsNew[1] = myPoints[np.argmin(diff)]\n",
    "    myPointsNew[2] = myPoints[np.argmax(diff)]\n",
    "\n",
    "    #print('New Points ',myPointsNew)\n",
    "\n",
    "    return myPointsNew"
   ]
  },
  {
   "attachments": {},
   "cell_type": "markdown",
   "metadata": {},
   "source": [
    "For test image"
   ]
  },
  {
   "cell_type": "code",
   "execution_count": 180,
   "metadata": {},
   "outputs": [
    {
     "data": {
      "text/plain": [
       "-1"
      ]
     },
     "execution_count": 180,
     "metadata": {},
     "output_type": "execute_result"
    }
   ],
   "source": [
    "img = cv2.imread('D:\\\\Courses\\\\OpenCV\\\\Resources\\\\document.jpg')\n",
    "img = cv2.resize(img,(widthImage,heightImage))\n",
    "imgContour = img.copy()\n",
    "imgThres = preProcessing(img)\n",
    "\n",
    "biggest = getContours(imgThres)\n",
    "\n",
    "if biggest.size != 0:\n",
    "    imgWarped = getWarp(img,biggest)\n",
    "    imgArray = [[img,imgContour],\n",
    "            [imgThres,imgWarped]]\n",
    "\n",
    "else:\n",
    "    imgArray = [[img,imgContour],\n",
    "            [imgThres,img]]\n",
    "\n",
    "\n",
    "stackedImages = stackImages(0.6,imgArray)\n",
    "cv2.imshow('Stacked Images',stackedImages)\n",
    "cv2.waitKey(0)\n"
   ]
  },
  {
   "cell_type": "code",
   "execution_count": 182,
   "metadata": {},
   "outputs": [
    {
     "data": {
      "text/plain": [
       "\"\\ncap = cv2.VideoCapture(0)\\ncap.set(3,widthImage)\\ncap.set(4,heightImage)\\n\\nwhile True:\\n    success, img = cap.read()\\n    imgContour = img.copy()\\n    img = cv2.resize(img,(widthImage,heightImage))\\n    \\n    imgThres = preProcessing(img)\\n    biggest = getContours(imgThres)\\n    \\n    if biggest.size != 0:\\n        imgWarped = getWarp(img,biggest)\\n        imgArray = [[img,imgContour],\\n                    [imgThres],imgWarped]\\n    else:\\n        imgWarped = getWarp(img,biggest)\\n        imgArray = [[img,imgContour],\\n                    [imgThres],img]\\n\\n    stackedImages = stackImages(0.6,imgArray)\\n\\n    cv2.imshow('Video',stackedImages)\\n\\n    if cv2.waitKey(1) & 0xFF == ord('q'):\\n        break\\n\\ncv2.destroyAllWindows()\\ncap.release()\\n\""
      ]
     },
     "execution_count": 182,
     "metadata": {},
     "output_type": "execute_result"
    }
   ],
   "source": [
    "'''\n",
    "cap = cv2.VideoCapture(0)\n",
    "cap.set(3,widthImage)\n",
    "cap.set(4,heightImage)\n",
    "\n",
    "while True:\n",
    "    success, img = cap.read()\n",
    "    imgContour = img.copy()\n",
    "    img = cv2.resize(img,(widthImage,heightImage))\n",
    "    \n",
    "    imgThres = preProcessing(img)\n",
    "    biggest = getContours(imgThres)\n",
    "    \n",
    "    if biggest.size != 0:\n",
    "        imgWarped = getWarp(img,biggest)\n",
    "        imgArray = [[img,imgContour],\n",
    "                    [imgThres],imgWarped]\n",
    "    else:\n",
    "        imgWarped = getWarp(img,biggest)\n",
    "        imgArray = [[img,imgContour],\n",
    "                    [imgThres],img]\n",
    "\n",
    "    stackedImages = stackImages(0.6,imgArray)\n",
    "\n",
    "    cv2.imshow('Video',stackedImages)\n",
    "\n",
    "    if cv2.waitKey(1) & 0xFF == ord('q'):\n",
    "        break\n",
    "\n",
    "cv2.destroyAllWindows()\n",
    "cap.release()\n",
    "'''"
   ]
  },
  {
   "cell_type": "code",
   "execution_count": 183,
   "metadata": {},
   "outputs": [],
   "source": [
    "cap.release()"
   ]
  },
  {
   "cell_type": "code",
   "execution_count": 175,
   "metadata": {},
   "outputs": [],
   "source": [
    "cv2.destroyAllWindows()"
   ]
  }
 ],
 "metadata": {
  "kernelspec": {
   "display_name": "Python 3",
   "language": "python",
   "name": "python3"
  },
  "language_info": {
   "codemirror_mode": {
    "name": "ipython",
    "version": 3
   },
   "file_extension": ".py",
   "mimetype": "text/x-python",
   "name": "python",
   "nbconvert_exporter": "python",
   "pygments_lexer": "ipython3",
   "version": "3.10.10"
  },
  "orig_nbformat": 4
 },
 "nbformat": 4,
 "nbformat_minor": 2
}
