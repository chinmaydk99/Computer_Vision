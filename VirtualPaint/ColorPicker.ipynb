{
 "cells": [
  {
   "cell_type": "code",
   "execution_count": 1,
   "metadata": {},
   "outputs": [],
   "source": [
    "import cv2\n",
    "import numpy as np"
   ]
  },
  {
   "cell_type": "code",
   "execution_count": 2,
   "metadata": {},
   "outputs": [],
   "source": [
    "path = 'D:\\\\Courses\\\\OpenCV\\\\Resources\\dogs.jpg'"
   ]
  },
  {
   "cell_type": "code",
   "execution_count": 3,
   "metadata": {},
   "outputs": [],
   "source": [
    "def empty(a):\n",
    "    pass"
   ]
  },
  {
   "cell_type": "code",
   "execution_count": 4,
   "metadata": {},
   "outputs": [
    {
     "ename": "error",
     "evalue": "OpenCV(4.6.0) D:\\a\\opencv-python\\opencv-python\\opencv\\modules\\highgui\\src\\window_w32.cpp:2581: error: (-27:Null pointer) NULL window: 'TrackBars' in function 'cvGetTrackbarPos'\n",
     "output_type": "error",
     "traceback": [
      "\u001b[1;31m---------------------------------------------------------------------------\u001b[0m",
      "\u001b[1;31merror\u001b[0m                                     Traceback (most recent call last)",
      "\u001b[1;32md:\\Courses\\OpenCV\\Projects\\VirtualPaint\\ColorPicker.ipynb Cell 4\u001b[0m in \u001b[0;36m<cell line: 17>\u001b[1;34m()\u001b[0m\n\u001b[0;32m     <a href='vscode-notebook-cell:/d%3A/Courses/OpenCV/Projects/VirtualPaint/ColorPicker.ipynb#W3sZmlsZQ%3D%3D?line=19'>20</a>\u001b[0m imgHSV \u001b[39m=\u001b[39m cv2\u001b[39m.\u001b[39mcvtColor(img,cv2\u001b[39m.\u001b[39mCOLOR_BGR2HSV)\n\u001b[0;32m     <a href='vscode-notebook-cell:/d%3A/Courses/OpenCV/Projects/VirtualPaint/ColorPicker.ipynb#W3sZmlsZQ%3D%3D?line=21'>22</a>\u001b[0m \u001b[39mif\u001b[39;00m success:\n\u001b[1;32m---> <a href='vscode-notebook-cell:/d%3A/Courses/OpenCV/Projects/VirtualPaint/ColorPicker.ipynb#W3sZmlsZQ%3D%3D?line=22'>23</a>\u001b[0m     h_min \u001b[39m=\u001b[39m cv2\u001b[39m.\u001b[39;49mgetTrackbarPos(\u001b[39m'\u001b[39;49m\u001b[39mHue Min\u001b[39;49m\u001b[39m'\u001b[39;49m,\u001b[39m'\u001b[39;49m\u001b[39mTrackBars\u001b[39;49m\u001b[39m'\u001b[39;49m)\n\u001b[0;32m     <a href='vscode-notebook-cell:/d%3A/Courses/OpenCV/Projects/VirtualPaint/ColorPicker.ipynb#W3sZmlsZQ%3D%3D?line=23'>24</a>\u001b[0m     h_max \u001b[39m=\u001b[39m cv2\u001b[39m.\u001b[39mgetTrackbarPos(\u001b[39m'\u001b[39m\u001b[39mHue Max\u001b[39m\u001b[39m'\u001b[39m,\u001b[39m'\u001b[39m\u001b[39mTrackBars\u001b[39m\u001b[39m'\u001b[39m)\n\u001b[0;32m     <a href='vscode-notebook-cell:/d%3A/Courses/OpenCV/Projects/VirtualPaint/ColorPicker.ipynb#W3sZmlsZQ%3D%3D?line=24'>25</a>\u001b[0m     s_min \u001b[39m=\u001b[39m cv2\u001b[39m.\u001b[39mgetTrackbarPos(\u001b[39m'\u001b[39m\u001b[39mSaturation Min\u001b[39m\u001b[39m'\u001b[39m,\u001b[39m'\u001b[39m\u001b[39mTrackBars\u001b[39m\u001b[39m'\u001b[39m)\n",
      "\u001b[1;31merror\u001b[0m: OpenCV(4.6.0) D:\\a\\opencv-python\\opencv-python\\opencv\\modules\\highgui\\src\\window_w32.cpp:2581: error: (-27:Null pointer) NULL window: 'TrackBars' in function 'cvGetTrackbarPos'\n"
     ]
    }
   ],
   "source": [
    "#Access webcam\n",
    "cap = cv2.VideoCapture(0)\n",
    "cap.set(3,640)\n",
    "cap.set(4,480)\n",
    "cap.set(10,450)\n",
    "\n",
    "#Create trackbars\n",
    "cv2.namedWindow('TrackBars')\n",
    "cv2.resizeWindow('TrackBars',640,240)\n",
    "cv2.createTrackbar('Hue Min','TrackBars',0,179,empty)\n",
    "cv2.createTrackbar('Hue Max','TrackBars',179,179,empty)\n",
    "cv2.createTrackbar('Saturation Min','TrackBars',0,255,empty)\n",
    "cv2.createTrackbar('Saturation Max','TrackBars',255,255,empty)\n",
    "cv2.createTrackbar('Value Min','TrackBars',0,255,empty)\n",
    "cv2.createTrackbar('Value Max','TrackBars',255,255,empty)\n",
    "\n",
    "while True:\n",
    "    success, img = cap.read()\n",
    "    img = cv2.resize(img,(300,300))\n",
    "    imgHSV = cv2.cvtColor(img,cv2.COLOR_BGR2HSV)\n",
    "    \n",
    "    if success:\n",
    "        h_min = cv2.getTrackbarPos('Hue Min','TrackBars')\n",
    "        h_max = cv2.getTrackbarPos('Hue Max','TrackBars')\n",
    "        s_min = cv2.getTrackbarPos('Saturation Min','TrackBars')\n",
    "        s_max = cv2.getTrackbarPos('Saturation Max','TrackBars')\n",
    "        v_min = cv2.getTrackbarPos('Value Min','TrackBars')\n",
    "        v_max = cv2.getTrackbarPos('Value Max','TrackBars')\n",
    "        \n",
    "        lower = np.array([h_min,s_min,v_min])\n",
    "        upper = np.array([h_max,s_max,v_max])\n",
    "        mask = cv2.inRange(imgHSV,lower,upper)\n",
    "        imgResult = cv2.bitwise_and(img,img,mask=mask)\n",
    "\n",
    "        #Converting mask to BGR so that channels match and stacking can be carried out\n",
    "        mask = cv2.cvtColor(mask,cv2.COLOR_GRAY2BGR)\n",
    "\n",
    "        hstack = np.hstack([img,mask,imgResult])\n",
    "        cv2.imshow('Stacked images',hstack)\n",
    "\n",
    "    if cv2.waitKey(1) & 0xFF  == ord('q'):\n",
    "        break\n",
    "\n",
    "cap.release()\n",
    "cv2.destroyAllWindows()"
   ]
  },
  {
   "cell_type": "code",
   "execution_count": 5,
   "metadata": {},
   "outputs": [],
   "source": [
    "cv2.destroyAllWindows()"
   ]
  },
  {
   "cell_type": "code",
   "execution_count": 26,
   "metadata": {},
   "outputs": [],
   "source": [
    "cap.release()"
   ]
  },
  {
   "cell_type": "code",
   "execution_count": null,
   "metadata": {},
   "outputs": [],
   "source": []
  }
 ],
 "metadata": {
  "kernelspec": {
   "display_name": "Python 3",
   "language": "python",
   "name": "python3"
  },
  "language_info": {
   "codemirror_mode": {
    "name": "ipython",
    "version": 3
   },
   "file_extension": ".py",
   "mimetype": "text/x-python",
   "name": "python",
   "nbconvert_exporter": "python",
   "pygments_lexer": "ipython3",
   "version": "3.10.10"
  },
  "orig_nbformat": 4
 },
 "nbformat": 4,
 "nbformat_minor": 2
}
