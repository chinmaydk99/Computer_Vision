{
 "cells": [
  {
   "attachments": {},
   "cell_type": "markdown",
   "metadata": {},
   "source": [
    "Using PyCAW library to control system audio"
   ]
  },
  {
   "cell_type": "code",
   "execution_count": 68,
   "metadata": {},
   "outputs": [],
   "source": [
    "import time as time\n",
    "import cv2\n",
    "import mediapipe as mp\n",
    "import HandTrackingModule as htm\n",
    "import math\n",
    "import numpy as np"
   ]
  },
  {
   "attachments": {},
   "cell_type": "markdown",
   "metadata": {},
   "source": [
    "### Importing pyCAW and inserting template code from the pycaw file"
   ]
  },
  {
   "cell_type": "code",
   "execution_count": 69,
   "metadata": {},
   "outputs": [],
   "source": [
    "import pycaw"
   ]
  },
  {
   "attachments": {},
   "cell_type": "markdown",
   "metadata": {},
   "source": [
    "template code from : https://github.com/AndreMiras/pycaw"
   ]
  },
  {
   "attachments": {},
   "cell_type": "markdown",
   "metadata": {},
   "source": [
    "#### PyCaw related imports"
   ]
  },
  {
   "cell_type": "code",
   "execution_count": 70,
   "metadata": {},
   "outputs": [],
   "source": [
    "from ctypes import cast, POINTER\n",
    "from comtypes import CLSCTX_ALL\n",
    "from pycaw.pycaw import AudioUtilities, IAudioEndpointVolume"
   ]
  },
  {
   "attachments": {},
   "cell_type": "markdown",
   "metadata": {},
   "source": [
    "Use volume.GetVolumeRange() to see what the volume range is for our system"
   ]
  },
  {
   "cell_type": "code",
   "execution_count": 104,
   "metadata": {},
   "outputs": [],
   "source": [
    "devices = AudioUtilities.GetSpeakers()\n",
    "interface = devices.Activate(\n",
    "    IAudioEndpointVolume._iid_, CLSCTX_ALL, None)\n",
    "volume = cast(interface, POINTER(IAudioEndpointVolume))\n",
    "#volume.SetMasterVolumeLevel(0, None)"
   ]
  },
  {
   "attachments": {},
   "cell_type": "markdown",
   "metadata": {},
   "source": [
    "#### Obtaining the volume Range"
   ]
  },
  {
   "cell_type": "code",
   "execution_count": 105,
   "metadata": {},
   "outputs": [],
   "source": [
    "volRange = volume.GetVolumeRange()\n",
    "minVol = volRange[0]\n",
    "maxVol = volRange[1]"
   ]
  },
  {
   "cell_type": "code",
   "execution_count": 106,
   "metadata": {},
   "outputs": [],
   "source": [
    "wcam = 1080\n",
    "hcam = 720\n",
    "pTime = 0\n",
    "cTime = 0"
   ]
  },
  {
   "attachments": {},
   "cell_type": "markdown",
   "metadata": {},
   "source": [
    "PyCAW (Python Core Audio Windows library) is a Python library that provides a high-level interface for accessing the Windows Core Audio API. This library allows Python programs to enumerate and control audio devices, sessions, and their properties on Windows machines."
   ]
  },
  {
   "cell_type": "code",
   "execution_count": 107,
   "metadata": {},
   "outputs": [
    {
     "name": "stdout",
     "output_type": "stream",
     "text": [
      "vol -48.14861123127277 volBar 334.47743766771174 volPer 26.2090249329153\n",
      "vol -60.392726909905164 volBar 381.3897582754987 volPer 7.444096689800508\n",
      "vol -62.9804347826087 volBar 391.30434782608694 volPer 3.4782608695652173\n",
      "vol -62.48903490641276 volBar 389.4215896797424 volPer 4.231364128103048\n",
      "vol -59.22684164906294 volBar 376.9227649389385 volPer 9.230894024424611\n",
      "vol -63.097819972828475 volBar 391.75409951275276 volPer 3.2983601948988888\n",
      "vol -60.59723542879231 volBar 382.1733158191276 volPer 7.130673672348953\n",
      "vol -63.564211342934755 volBar 393.5410396281025 volPer 2.583584148758997\n",
      "vol -63.657759017521855 volBar 393.89945983724846 volPer 2.440216065100606\n",
      "vol -62.75564566791356 volBar 390.44308685024356 volPer 3.822765259902581\n",
      "vol -64.644042081383 volBar 397.67832215089277 volPer 0.9286711396428932\n",
      "vol -65.25 volBar 400.0 volPer 0.0\n",
      "vol -63.814520377210926 volBar 394.5000780736051 volPer 2.199968770557972\n",
      "vol -64.44222788924843 volBar 396.9050876982699 volPer 1.2379649206920547\n",
      "vol -64.01547246140821 volBar 395.27000943068276 volPer 1.8919962277268878\n",
      "vol -64.54864617482853 volBar 397.3128205932128 volPer 1.0748717627148832\n",
      "vol -54.923377659890726 volBar 360.43439716433227 volPer 15.826241134267086\n",
      "vol -52.97918190944926 volBar 352.98537130057184 volPer 18.805851479771253\n",
      "vol -49.16610253660671 volBar 338.37587178776516 volPer 24.64965128489393\n",
      "vol -44.76846626789735 volBar 321.52669068159906 volPer 31.38932372736038\n",
      "vol -40.16942008018732 volBar 303.90582406202043 volPer 38.43767037519183\n",
      "vol -38.179486072815735 volBar 296.28155583454304 volPer 41.48737766618277\n",
      "vol -26.92821422359038 volBar 253.17323457314325 volPer 58.73070617074271\n",
      "vol -24.34077596354407 volBar 243.25967802124165 volPer 62.69612879150334\n",
      "vol -11.229062475694619 volBar 193.0232278762246 volPer 82.79070884951015\n",
      "vol -7.86812674493315 volBar 180.14607948250253 volPer 87.941568206999\n",
      "vol -5.360135362796868 volBar 170.53691709883861 volPer 91.78523316046456\n",
      "vol 0.0 volBar 150.0 volPer 100.0\n",
      "vol 0.0 volBar 150.0 volPer 100.0\n",
      "vol 0.0 volBar 150.0 volPer 100.0\n",
      "vol 0.0 volBar 150.0 volPer 100.0\n",
      "vol 0.0 volBar 150.0 volPer 100.0\n",
      "vol 0.0 volBar 150.0 volPer 100.0\n",
      "vol 0.0 volBar 150.0 volPer 100.0\n",
      "vol -0.22675160543340667 volBar 150.86878009744606 volPer 99.65248796102158\n",
      "vol -38.945485436251786 volBar 299.2164192959839 volPer 40.313432281606445\n",
      "vol -45.78841422130054 volBar 325.43453724636225 volPer 29.826185101455106\n",
      "vol -50.46239486005623 volBar 343.34250904236103 volPer 22.662996383055585\n",
      "vol -50.6203402414929 volBar 343.94766376050916 volPer 22.420934495796327\n",
      "vol -54.87566348785314 volBar 360.25158424464803 volPer 15.899366302140784\n",
      "vol -60.33176439700618 volBar 381.15618542914245 volPer 7.537525828343018\n",
      "vol -60.89375707121256 volBar 383.3094140659485 volPer 6.6762343736205985\n",
      "vol -61.52335035167649 volBar 385.72164885699806 volPer 5.711340457200775\n",
      "vol -61.493432595275635 volBar 385.6070214378377 volPer 5.7571914248649225\n",
      "vol -62.93497094277001 volBar 391.1301568688506 volPer 3.547937252459759\n",
      "vol -62.96019658863402 volBar 391.2268068530039 volPer 3.5092772587984338\n",
      "vol -42.88393076644377 volBar 314.3062481472941 volPer 34.27750074108234\n",
      "vol -35.2718227565933 volBar 285.14108335859504 volPer 45.943566656561984\n",
      "vol -0.13118872189662056 volBar 150.50263878121316 volPer 99.79894448751473\n",
      "vol 0.0 volBar 150.0 volPer 100.0\n",
      "vol 0.0 volBar 150.0 volPer 100.0\n",
      "vol 0.0 volBar 150.0 volPer 100.0\n",
      "vol 0.0 volBar 150.0 volPer 100.0\n",
      "vol 0.0 volBar 150.0 volPer 100.0\n",
      "vol 0.0 volBar 150.0 volPer 100.0\n",
      "vol 0.0 volBar 150.0 volPer 100.0\n",
      "vol 0.0 volBar 150.0 volPer 100.0\n",
      "vol -7.3431665239750785 volBar 178.1347376397513 volPer 88.74610494409949\n",
      "vol -24.79217359854185 volBar 244.9891708756393 volPer 62.00433164974428\n",
      "vol -40.55654947913881 volBar 305.3890784641334 volPer 37.84436861434665\n",
      "vol -58.15760869565217 volBar 372.82608695652175 volPer 10.869565217391305\n",
      "vol -58.56441639626804 volBar 374.3847371504522 volPer 10.2461051398191\n",
      "vol -58.95141872215565 volBar 375.86750468258873 volPer 9.652998126964514\n",
      "vol -58.357764721562226 volBar 373.5929682818476 volPer 10.562812687260958\n",
      "vol -57.303566896673104 volBar 369.5538961558356 volPer 12.178441537665744\n",
      "vol -57.86158427360535 volBar 371.6918937686029 volPer 11.323242492558848\n",
      "vol -57.23284199288885 volBar 369.2829195129841 volPer 12.286832194806356\n",
      "vol -48.9471111469931 volBar 337.53682431798126 volPer 24.9852702728075\n",
      "vol -46.7314762478671 volBar 329.0478017159659 volPer 28.380879313613637\n",
      "vol -36.29444548145112 volBar 289.05917808985106 volPer 44.37632876405958\n",
      "vol -48.824768319246665 volBar 337.0680778515198 volPer 25.172768859392082\n"
     ]
    }
   ],
   "source": [
    "cap = cv2.VideoCapture(0)\n",
    "cap.set(3,wcam)\n",
    "cap.set(4,hcam)\n",
    "\n",
    "#Changing detection confidence in order to prevent model from picking up noise\n",
    "detector = htm.HandDetector(detectionCon=0.7)\n",
    "vol = 0\n",
    "volBar = 400\n",
    "volPer = 0\n",
    "\n",
    "while True:\n",
    "    success, img = cap.read() \n",
    "    img = detector.findHands(img)\n",
    "    landmark_list = detector.findPosition(img,draw=False)\n",
    "\n",
    "    #For gesture recognition , we need:\n",
    "    # Value No.4 - tip of thumb\n",
    "    # Value No 8 - tip of index finger\n",
    "    if landmark_list:\n",
    "        #print(landmark_list[4],landmark_list[8])\n",
    "\n",
    "        x1,y1 = landmark_list[4][1], landmark_list[4][2]\n",
    "        x2,y2 = landmark_list[8][1], landmark_list[8][2]\n",
    "\n",
    "        # Make sure we are getting the current indices by drawing circles\n",
    "        cv2.circle(img,(x1,y1),5,(255,0,0),cv2.FILLED)\n",
    "        cv2.circle(img,(x2,y2),5,(255,0,0),cv2.FILLED)\n",
    "\n",
    "        # Draw a line between these points\n",
    "        cv2.line(img,(x1,y1),(x2,y2),(0,255,255),2)\n",
    "\n",
    "        # Getting the centre of this line\n",
    "        cx, cy = (x1+x2) // 2, (y1+y2)  // 2\n",
    "        cv2.circle(img,(cx,cy),5,(0,255,0),cv2.FILLED)\n",
    "\n",
    "        # Finding the distance between the points(length of line)\n",
    "        # returns square root of sum of squares of arguments\n",
    "        length = math.hypot(x2-x1,y2-y1)\n",
    "        #print(length)\n",
    "\n",
    "        # Hand range 50 -300 (Based on the length we obtain)\n",
    "        # This now needs to be converted to volume range( minVol - maxVol)\n",
    "        # np.interp(input_value, original_range, desired_range)\n",
    "\n",
    "        vol = np.interp(length,[20,250],[minVol,maxVol])\n",
    "        #print(int(length),vol)\n",
    "\n",
    "        # While we have already scaled it once, we scale it again so that the\n",
    "        # the values stay within the confines of the image\n",
    "        # Length between thumb and index - length of sound bar\n",
    "        volBar = np.interp(length,[20,250],[400,150])\n",
    "\n",
    "        # Volume level in terms of percentage\n",
    "        volPer = np.interp(length,[20,250],[0,100])\n",
    "\n",
    "        print(f'vol {vol} volBar {volBar} volPer {volPer}')\n",
    "        \n",
    "        volume.SetMasterVolumeLevel(vol,None)\n",
    "\n",
    "        if length < 150:\n",
    "            cv2.circle(img,(cx,cy),5,(0,0,255),cv2.FILLED)\n",
    "\n",
    "    # Visual representation of sound bar on the image\n",
    "    cv2.rectangle(img,(50,150),(80,400),(0,255,0),3)\n",
    "    cv2.rectangle(img,(50,int(volBar)),(80,400),(0,255,0),cv2.FILLED)\n",
    "    cv2.putText(img,f'{int(volPer)} %',(40,450), cv2.FONT_HERSHEY_COMPLEX, 1,\n",
    "                (0,255,0),3)\n",
    "\n",
    "    # Frame Rate\n",
    "    cTime = time.time()\n",
    "    fps = 1/(cTime-pTime)\n",
    "    pTime =cTime\n",
    "    cv2.putText(img,str(int(fps)),(18,78),cv2.FONT_HERSHEY_COMPLEX,3,(255,0,255),4)\n",
    "\n",
    "    cv2.imshow('Video',img)\n",
    "    #cv2.waitKey(1)\n",
    "    if cv2.waitKey(1) & 0xFF == ord('q'):\n",
    "        break\n",
    "\n",
    "cap.release()\n",
    "cv2.destroyAllWindows()"
   ]
  },
  {
   "cell_type": "code",
   "execution_count": 52,
   "metadata": {},
   "outputs": [],
   "source": [
    "cv2.destroyAllWindows()"
   ]
  },
  {
   "cell_type": "code",
   "execution_count": null,
   "metadata": {},
   "outputs": [],
   "source": []
  }
 ],
 "metadata": {
  "kernelspec": {
   "display_name": "Python 3",
   "language": "python",
   "name": "python3"
  },
  "language_info": {
   "codemirror_mode": {
    "name": "ipython",
    "version": 3
   },
   "file_extension": ".py",
   "mimetype": "text/x-python",
   "name": "python",
   "nbconvert_exporter": "python",
   "pygments_lexer": "ipython3",
   "version": "3.10.10"
  },
  "orig_nbformat": 4
 },
 "nbformat": 4,
 "nbformat_minor": 2
}
